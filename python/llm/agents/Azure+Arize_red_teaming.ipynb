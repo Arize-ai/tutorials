{
 "cells": [
  {
   "cell_type": "markdown",
   "metadata": {},
   "source": [
    "<center>\n",
    "    <p style=\"text-align:center\">\n",
    "    <img alt=\"arize logo\" src=\"https://storage.googleapis.com/arize-assets/arize-logo-white.jpg\" width=\"300\"/>\n",
    "        <br>\n",
    "        <a href=\"https://docs.arize.com/arize/\">Docs</a>\n",
    "        |\n",
    "        <a href=\"https://github.com/Arize-ai/client_python\">GitHub</a>\n",
    "        |\n",
    "        <a href=\"https://arize-ai.slack.com/join/shared_invite/zt-11t1vbu4x-xkBIHmOREQnYnYDH1GDfCg\">Slack Community</a>\n",
    "    </p>\n",
    "</center>\n",
    "\n",
    "\n",
    "\n",
    "# Azure AI Red Teaming Agent + Arize Tracing\n",
    "\n",
    "This notebook walks through how to trace Azure AI red teaming agent scans\n",
    "\n",
    "\n",
    "Prerequisites:\n",
    "\n",
    "1. Arize AX account ([Sign up for free](https://app.arize.com/auth/join))\n",
    "2. Azure AI foundry account and project created  ([Sign up here](https://azure.microsoft.com/en-us/products/ai-foundry))\n",
    "\n",
    "Information on AI Red Teaming agent: https://learn.microsoft.com/en-us/azure/ai-foundry/concepts/ai-red-teaming-agent?source=recommendations\n"
   ]
  },
  {
   "cell_type": "markdown",
   "metadata": {},
   "source": [
    "## Prerequisites\n",
    "\n",
    "- Python 3.10-3.12\n",
    "- Azure AI Foundry project\n",
    "- OpenAI API key (or Azure OpenAI endpoint)\n",
    "- Required packages installed"
   ]
  },
  {
   "cell_type": "code",
   "execution_count": 9,
   "metadata": {},
   "outputs": [],
   "source": [
    "# Install required packages\n",
    "!pip install -q \"azure-ai-evaluation[redteam]\" openai arize-otel openinference-instrumentation-openai"
   ]
  },
  {
   "cell_type": "markdown",
   "metadata": {},
   "source": [
    "## 1. Create the Azure AI Red Teaming Agent\n",
    "\n",
    "You can instantiate the AI Red Teaming agent with your Azure AI Project and Azure Credentials.\n",
    "\n",
    "This example generates a default set of 10 attack prompts for each of the default set of four risk categories (violence, sexual, hate and unfairness, and self-harm) to result in a total of 40 rows of attack prompts to be generated and sent to your target.\n",
    "\n",
    "https://learn.microsoft.com/en-us/azure/ai-foundry/how-to/develop/run-scans-ai-red-teaming-agent#results-from-your-automated-scans\n",
    "\n"
   ]
  },
  {
   "cell_type": "code",
   "execution_count": null,
   "metadata": {},
   "outputs": [],
   "source": [
    "# Setup up red teaming agent\n",
    "import os\n",
    "\n",
    "# Azure imports\n",
    "from azure.identity import DefaultAzureCredential\n",
    "from azure.ai.evaluation.red_team import RedTeam, RiskCategory, AttackStrategy\n",
    "\n",
    "#Set up environment variables\n",
    "os.environ[\"AZURE_SUBSCRIPTION_ID\"] = \"\"\n",
    "os.environ[\"AZURE_RESOURCE_GROUP\"] = \"\"\n",
    "os.environ[\"AZURE_PROJECT_NAME\"] = \"\"\n",
    "os.environ[\"PROJECT_ENDPOINT\"] = \"\"\n",
    "os.environ[\"ARIZE_SPACE_ID\"] = \"\"\n",
    "os.environ[\"ARIZE_API_KEY\"] = \"\"\n",
    "os.environ[\"PROJECT_NAME\"] = \"red-team-violence-examples\"\n",
    "\n",
    "\n",
    "## Using Azure AI Foundry Hub project\n",
    "azure_ai_project = {\n",
    "    \"subscription_id\": os.environ[\"AZURE_SUBSCRIPTION_ID\"],\n",
    "    \"resource_group_name\": os.environ[\"AZURE_RESOURCE_GROUP\"],\n",
    "    \"project_name\": os.environ[\"AZURE_PROJECT_NAME\"],\n",
    "}\n",
    "azure_ai_project = os.environ[\"PROJECT_ENDPOINT\"]\n",
    "\n",
    "# Instantiate your AI Red Teaming Agent\n",
    "red_team_agent = RedTeam(\n",
    "    azure_ai_project=azure_ai_project, # required\n",
    "    credential=DefaultAzureCredential() # required\n",
    ")"
   ]
  },
  {
   "cell_type": "markdown",
   "metadata": {},
   "source": [
    "Optionally, you can specify which risk categories of content risks you want to cover with risk_categories parameter and define the number of prompts covering each risk category with num_objectives parameter."
   ]
  },
  {
   "cell_type": "code",
   "execution_count": null,
   "metadata": {},
   "outputs": [],
   "source": [
    "# Specifying risk categories and number of attack objectives per risk categories you want the AI Red Teaming Agent to cover\n",
    "red_team_agent = RedTeam(\n",
    "    azure_ai_project=azure_ai_project, # required\n",
    "    credential=DefaultAzureCredential(), # required\n",
    "    risk_categories=[ # optional, defaults to all four risk categories\n",
    "        RiskCategory.Violence,\n",
    "        RiskCategory.HateUnfairness,\n",
    "        RiskCategory.Sexual,\n",
    "        RiskCategory.SelfHarm\n",
    "    ], \n",
    "    num_objectives=10, # optional, defaults to 10\n",
    ")"
   ]
  },
  {
   "cell_type": "markdown",
   "metadata": {},
   "source": [
    "## 2. Trace the Agent"
   ]
  },
  {
   "cell_type": "code",
   "execution_count": null,
   "metadata": {},
   "outputs": [],
   "source": [
    "#enable tracing for openai\n",
    "from arize.otel import register\n",
    "\n",
    "tracer_provider = register(\n",
    "    space_id = os.environ[\"ARIZE_SPACE_ID\"],\n",
    "    api_key = os.environ[\"ARIZE_API_KEY\"],\n",
    "    project_name = os.environ[\"PROJECT_NAME\"], \n",
    ")\n",
    "\n",
    "from openinference.instrumentation.openai import OpenAIInstrumentor\n",
    "OpenAIInstrumentor().instrument(tracer_provider=tracer_provider)"
   ]
  },
  {
   "cell_type": "markdown",
   "metadata": {},
   "source": [
    "## 3. Create a target for the red teaming agent"
   ]
  },
  {
   "cell_type": "code",
   "execution_count": 13,
   "metadata": {},
   "outputs": [],
   "source": [
    "# Set up a callback function to pass to the red teaming agent scan\n",
    "import openai\n",
    "\n",
    "# Define a simple callback function that simulates a chatbot\n",
    "def simple_callback(query: str) -> str:\n",
    "    # Insert your LLM or agent here\n",
    "    openai_client = openai.OpenAI()\n",
    "    response = openai_client.chat.completions.create(\n",
    "        model=\"gpt-4o-mini\",\n",
    "        messages=[\n",
    "            {\"role\": \"system\",\n",
    "            \"content\": \"You are a helpful AI assistant. Always maintain a polite and professional tone. Provide concise answers.\"\n",
    "            },\n",
    "            {\"role\": \"user\", \"content\": query}\n",
    "        ],\n",
    "        max_tokens=100,\n",
    "    )"
   ]
  },
  {
   "cell_type": "markdown",
   "metadata": {},
   "source": [
    "## 4. Run the red teaming scan\n",
    "\n",
    "When the scan is finished, you can specify an output_path to capture a JSON file that represents a scorecard of your results for using in your own reporting tool or compliance platform.\n",
    "\n"
   ]
  },
  {
   "cell_type": "code",
   "execution_count": null,
   "metadata": {},
   "outputs": [],
   "source": [
    "\n",
    "red_team_result = await red_team_agent.scan(target=simple_callback)"
   ]
  },
  {
   "cell_type": "markdown",
   "metadata": {},
   "source": [
    "###  Additional Examples\n",
    "\n",
    "### Available Attack Strategies\n",
    "\n",
    "To discover available attack strategies in your environment:"
   ]
  },
  {
   "cell_type": "code",
   "execution_count": null,
   "metadata": {},
   "outputs": [],
   "source": [
    "# List available AttackStrategy values\n",
    "print(\"Available AttackStrategy enum values:\")\n",
    "for attr in dir(AttackStrategy):\n",
    "    if not attr.startswith('_') and attr.isupper():\n",
    "        try:\n",
    "            value = getattr(AttackStrategy, attr)\n",
    "            print(f\"  - AttackStrategy.{attr}\")\n",
    "        except:\n",
    "            pass"
   ]
  },
  {
   "cell_type": "markdown",
   "metadata": {},
   "source": [
    "## 5. Now view the traces from your red teaming scans in Arize!"
   ]
  }
 ],
 "metadata": {
  "kernelspec": {
   "display_name": "clean_microsoft",
   "language": "python",
   "name": "python3"
  },
  "language_info": {
   "codemirror_mode": {
    "name": "ipython",
    "version": 3
   },
   "file_extension": ".py",
   "mimetype": "text/x-python",
   "name": "python",
   "nbconvert_exporter": "python",
   "pygments_lexer": "ipython3",
   "version": "3.11.13"
  }
 },
 "nbformat": 4,
 "nbformat_minor": 4
}
