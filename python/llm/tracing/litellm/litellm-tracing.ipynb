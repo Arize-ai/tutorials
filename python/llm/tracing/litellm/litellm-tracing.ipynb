{
 "cells": [
  {
   "cell_type": "markdown",
   "id": "43f8e85c-70c2-4de3-99b8-acdbb58d6c4a",
   "metadata": {
    "id": "43f8e85c-70c2-4de3-99b8-acdbb58d6c4a"
   },
   "source": [
    "\n",
    "<center>\n",
    "    <p style=\"text-align:center\">\n",
    "    <img alt=\"arize logo\" src=\"https://storage.googleapis.com/arize-assets/arize-logo-white.jpg\" width=\"300\"/>\n",
    "        <br>\n",
    "        <a href=\"https://docs.arize.com/arize/\">Docs</a>\n",
    "        |\n",
    "        <a href=\"https://github.com/Arize-ai/client_python\">GitHub</a>\n",
    "        |\n",
    "        <a href=\"https://join.slack.com/t/arize-ai/shared_invite/zt-1px8dcmlf-fmThhDFD_V_48oU7ALan4Q\">Community</a>\n",
    "    </p>\n",
    "</center>\n",
    "\n",
    "# <center>Tracing with LiteLLM</center>    "
   ]
  },
  {
   "cell_type": "markdown",
   "id": "94f4db8b-dc93-4cef-ac58-205d1ec21b36",
   "metadata": {
    "id": "94f4db8b-dc93-4cef-ac58-205d1ec21b36"
   },
   "source": [
    "This guide demonstrates how to use Arize with LiteLLM for tracing. \n",
    "\n",
    "You can read more about LLM tracing [here](https://docs.arize.com/arize/llm-large-language-models/llm-traces). In this tutorial, you will use opentelemetry and [openinference](https://github.com/Arize-ai/openinference/tree/main) to instrument our application in order to trace your LLM calls with LiteLLM.\n",
    "\n",
    "ℹ️ This notebook requires:\n",
    "- A OpenAI API key\n",
    "- An Arize Space & API Key\n"
   ]
  },
  {
   "cell_type": "markdown",
   "id": "899f02b0-f638-4da8-a72d-371b07a5a28c",
   "metadata": {
    "id": "899f02b0-f638-4da8-a72d-371b07a5a28c"
   },
   "source": [
    "## Step 1: Install Dependencies 📚\n",
    "Let's get the notebook setup with dependencies."
   ]
  },
  {
   "cell_type": "code",
   "execution_count": 2,
   "id": "2398520d-47d5-450e-a0c6-3969ede28626",
   "metadata": {},
   "outputs": [
    {
     "name": "stdout",
     "output_type": "stream",
     "text": [
      "Requirement already satisfied: arize-otel in /Users/ericxiao/Documents/arize/.venv/lib/python3.11/site-packages (0.6.0)\n",
      "Requirement already satisfied: openinference-instrumentation-litellm in /Users/ericxiao/Documents/arize/.venv/lib/python3.11/site-packages (0.1.5)\n",
      "Requirement already satisfied: opentelemetry-sdk in /Users/ericxiao/Documents/arize/.venv/lib/python3.11/site-packages (1.28.2)\n",
      "Requirement already satisfied: opentelemetry-exporter-otlp in /Users/ericxiao/Documents/arize/.venv/lib/python3.11/site-packages (1.28.2)\n",
      "Requirement already satisfied: opentelemetry-instrumentation-httpx in /Users/ericxiao/Documents/arize/.venv/lib/python3.11/site-packages (0.49b2)\n",
      "Requirement already satisfied: litellm in /Users/ericxiao/Documents/arize/.venv/lib/python3.11/site-packages (1.53.7)\n",
      "Requirement already satisfied: openinference-semantic-conventions>=0.1.5 in /Users/ericxiao/Documents/arize/.venv/lib/python3.11/site-packages (from arize-otel) (0.1.12)\n",
      "Requirement already satisfied: opentelemetry-proto>=1.12.0 in /Users/ericxiao/Documents/arize/.venv/lib/python3.11/site-packages (from arize-otel) (1.28.2)\n",
      "Requirement already satisfied: openinference-instrumentation>=0.1.17 in /Users/ericxiao/Documents/arize/.venv/lib/python3.11/site-packages (from openinference-instrumentation-litellm) (0.1.19)\n",
      "Requirement already satisfied: opentelemetry-api in /Users/ericxiao/Documents/arize/.venv/lib/python3.11/site-packages (from openinference-instrumentation-litellm) (1.28.2)\n",
      "Requirement already satisfied: opentelemetry-instrumentation in /Users/ericxiao/Documents/arize/.venv/lib/python3.11/site-packages (from openinference-instrumentation-litellm) (0.49b2)\n",
      "Requirement already satisfied: wrapt in /Users/ericxiao/Documents/arize/.venv/lib/python3.11/site-packages (from openinference-instrumentation-litellm) (1.17.0)\n",
      "Requirement already satisfied: opentelemetry-semantic-conventions==0.49b2 in /Users/ericxiao/Documents/arize/.venv/lib/python3.11/site-packages (from opentelemetry-sdk) (0.49b2)\n",
      "Requirement already satisfied: typing-extensions>=3.7.4 in /Users/ericxiao/Documents/arize/.venv/lib/python3.11/site-packages (from opentelemetry-sdk) (4.12.2)\n",
      "Requirement already satisfied: deprecated>=1.2.6 in /Users/ericxiao/Documents/arize/.venv/lib/python3.11/site-packages (from opentelemetry-api->openinference-instrumentation-litellm) (1.2.15)\n",
      "Requirement already satisfied: importlib-metadata<=8.5.0,>=6.0 in /Users/ericxiao/Documents/arize/.venv/lib/python3.11/site-packages (from opentelemetry-api->openinference-instrumentation-litellm) (8.5.0)\n",
      "Requirement already satisfied: opentelemetry-exporter-otlp-proto-grpc==1.28.2 in /Users/ericxiao/Documents/arize/.venv/lib/python3.11/site-packages (from opentelemetry-exporter-otlp) (1.28.2)\n",
      "Requirement already satisfied: opentelemetry-exporter-otlp-proto-http==1.28.2 in /Users/ericxiao/Documents/arize/.venv/lib/python3.11/site-packages (from opentelemetry-exporter-otlp) (1.28.2)\n",
      "Requirement already satisfied: googleapis-common-protos~=1.52 in /Users/ericxiao/Documents/arize/.venv/lib/python3.11/site-packages (from opentelemetry-exporter-otlp-proto-grpc==1.28.2->opentelemetry-exporter-otlp) (1.66.0)\n",
      "Requirement already satisfied: grpcio<2.0.0,>=1.63.2 in /Users/ericxiao/Documents/arize/.venv/lib/python3.11/site-packages (from opentelemetry-exporter-otlp-proto-grpc==1.28.2->opentelemetry-exporter-otlp) (1.68.1)\n",
      "Requirement already satisfied: opentelemetry-exporter-otlp-proto-common==1.28.2 in /Users/ericxiao/Documents/arize/.venv/lib/python3.11/site-packages (from opentelemetry-exporter-otlp-proto-grpc==1.28.2->opentelemetry-exporter-otlp) (1.28.2)\n",
      "Requirement already satisfied: requests~=2.7 in /Users/ericxiao/Documents/arize/.venv/lib/python3.11/site-packages (from opentelemetry-exporter-otlp-proto-http==1.28.2->opentelemetry-exporter-otlp) (2.32.3)\n",
      "Requirement already satisfied: protobuf<6.0,>=5.0 in /Users/ericxiao/Documents/arize/.venv/lib/python3.11/site-packages (from opentelemetry-proto>=1.12.0->arize-otel) (5.29.1)\n",
      "Requirement already satisfied: opentelemetry-util-http==0.49b2 in /Users/ericxiao/Documents/arize/.venv/lib/python3.11/site-packages (from opentelemetry-instrumentation-httpx) (0.49b2)\n",
      "Requirement already satisfied: packaging>=18.0 in /Users/ericxiao/Documents/arize/.venv/lib/python3.11/site-packages (from opentelemetry-instrumentation->openinference-instrumentation-litellm) (24.2)\n",
      "Requirement already satisfied: aiohttp in /Users/ericxiao/Documents/arize/.venv/lib/python3.11/site-packages (from litellm) (3.11.7)\n",
      "Requirement already satisfied: click in /Users/ericxiao/Documents/arize/.venv/lib/python3.11/site-packages (from litellm) (8.1.7)\n",
      "Requirement already satisfied: httpx<0.28.0,>=0.23.0 in /Users/ericxiao/Documents/arize/.venv/lib/python3.11/site-packages (from litellm) (0.27.2)\n",
      "Requirement already satisfied: jinja2<4.0.0,>=3.1.2 in /Users/ericxiao/Documents/arize/.venv/lib/python3.11/site-packages (from litellm) (3.1.4)\n",
      "Requirement already satisfied: jsonschema<5.0.0,>=4.22.0 in /Users/ericxiao/Documents/arize/.venv/lib/python3.11/site-packages (from litellm) (4.23.0)\n",
      "Requirement already satisfied: openai>=1.55.3 in /Users/ericxiao/Documents/arize/.venv/lib/python3.11/site-packages (from litellm) (1.57.0)\n",
      "Requirement already satisfied: pydantic<3.0.0,>=2.0.0 in /Users/ericxiao/Documents/arize/.venv/lib/python3.11/site-packages (from litellm) (2.9.2)\n",
      "Requirement already satisfied: python-dotenv>=0.2.0 in /Users/ericxiao/Documents/arize/.venv/lib/python3.11/site-packages (from litellm) (1.0.1)\n",
      "Requirement already satisfied: tiktoken>=0.7.0 in /Users/ericxiao/Documents/arize/.venv/lib/python3.11/site-packages (from litellm) (0.8.0)\n",
      "Requirement already satisfied: tokenizers in /Users/ericxiao/Documents/arize/.venv/lib/python3.11/site-packages (from litellm) (0.21.0)\n",
      "Requirement already satisfied: anyio in /Users/ericxiao/Documents/arize/.venv/lib/python3.11/site-packages (from httpx<0.28.0,>=0.23.0->litellm) (4.6.2.post1)\n",
      "Requirement already satisfied: certifi in /Users/ericxiao/Documents/arize/.venv/lib/python3.11/site-packages (from httpx<0.28.0,>=0.23.0->litellm) (2024.8.30)\n",
      "Requirement already satisfied: httpcore==1.* in /Users/ericxiao/Documents/arize/.venv/lib/python3.11/site-packages (from httpx<0.28.0,>=0.23.0->litellm) (1.0.6)\n",
      "Requirement already satisfied: idna in /Users/ericxiao/Documents/arize/.venv/lib/python3.11/site-packages (from httpx<0.28.0,>=0.23.0->litellm) (3.10)\n",
      "Requirement already satisfied: sniffio in /Users/ericxiao/Documents/arize/.venv/lib/python3.11/site-packages (from httpx<0.28.0,>=0.23.0->litellm) (1.3.1)\n",
      "Requirement already satisfied: h11<0.15,>=0.13 in /Users/ericxiao/Documents/arize/.venv/lib/python3.11/site-packages (from httpcore==1.*->httpx<0.28.0,>=0.23.0->litellm) (0.14.0)\n",
      "Requirement already satisfied: zipp>=3.20 in /Users/ericxiao/Documents/arize/.venv/lib/python3.11/site-packages (from importlib-metadata<=8.5.0,>=6.0->opentelemetry-api->openinference-instrumentation-litellm) (3.21.0)\n",
      "Requirement already satisfied: MarkupSafe>=2.0 in /Users/ericxiao/Documents/arize/.venv/lib/python3.11/site-packages (from jinja2<4.0.0,>=3.1.2->litellm) (3.0.2)\n",
      "Requirement already satisfied: attrs>=22.2.0 in /Users/ericxiao/Documents/arize/.venv/lib/python3.11/site-packages (from jsonschema<5.0.0,>=4.22.0->litellm) (24.2.0)\n",
      "Requirement already satisfied: jsonschema-specifications>=2023.03.6 in /Users/ericxiao/Documents/arize/.venv/lib/python3.11/site-packages (from jsonschema<5.0.0,>=4.22.0->litellm) (2024.10.1)\n",
      "Requirement already satisfied: referencing>=0.28.4 in /Users/ericxiao/Documents/arize/.venv/lib/python3.11/site-packages (from jsonschema<5.0.0,>=4.22.0->litellm) (0.35.1)\n",
      "Requirement already satisfied: rpds-py>=0.7.1 in /Users/ericxiao/Documents/arize/.venv/lib/python3.11/site-packages (from jsonschema<5.0.0,>=4.22.0->litellm) (0.21.0)\n",
      "Requirement already satisfied: distro<2,>=1.7.0 in /Users/ericxiao/Documents/arize/.venv/lib/python3.11/site-packages (from openai>=1.55.3->litellm) (1.9.0)\n",
      "Requirement already satisfied: jiter<1,>=0.4.0 in /Users/ericxiao/Documents/arize/.venv/lib/python3.11/site-packages (from openai>=1.55.3->litellm) (0.7.1)\n",
      "Requirement already satisfied: tqdm>4 in /Users/ericxiao/Documents/arize/.venv/lib/python3.11/site-packages (from openai>=1.55.3->litellm) (4.67.1)\n",
      "Requirement already satisfied: annotated-types>=0.6.0 in /Users/ericxiao/Documents/arize/.venv/lib/python3.11/site-packages (from pydantic<3.0.0,>=2.0.0->litellm) (0.7.0)\n",
      "Requirement already satisfied: pydantic-core==2.23.4 in /Users/ericxiao/Documents/arize/.venv/lib/python3.11/site-packages (from pydantic<3.0.0,>=2.0.0->litellm) (2.23.4)\n",
      "Requirement already satisfied: charset-normalizer<4,>=2 in /Users/ericxiao/Documents/arize/.venv/lib/python3.11/site-packages (from requests~=2.7->opentelemetry-exporter-otlp-proto-http==1.28.2->opentelemetry-exporter-otlp) (3.4.0)\n",
      "Requirement already satisfied: urllib3<3,>=1.21.1 in /Users/ericxiao/Documents/arize/.venv/lib/python3.11/site-packages (from requests~=2.7->opentelemetry-exporter-otlp-proto-http==1.28.2->opentelemetry-exporter-otlp) (2.2.3)\n",
      "Requirement already satisfied: regex>=2022.1.18 in /Users/ericxiao/Documents/arize/.venv/lib/python3.11/site-packages (from tiktoken>=0.7.0->litellm) (2024.11.6)\n",
      "Requirement already satisfied: aiohappyeyeballs>=2.3.0 in /Users/ericxiao/Documents/arize/.venv/lib/python3.11/site-packages (from aiohttp->litellm) (2.4.3)\n",
      "Requirement already satisfied: aiosignal>=1.1.2 in /Users/ericxiao/Documents/arize/.venv/lib/python3.11/site-packages (from aiohttp->litellm) (1.3.1)\n",
      "Requirement already satisfied: frozenlist>=1.1.1 in /Users/ericxiao/Documents/arize/.venv/lib/python3.11/site-packages (from aiohttp->litellm) (1.5.0)\n",
      "Requirement already satisfied: multidict<7.0,>=4.5 in /Users/ericxiao/Documents/arize/.venv/lib/python3.11/site-packages (from aiohttp->litellm) (6.1.0)\n",
      "Requirement already satisfied: propcache>=0.2.0 in /Users/ericxiao/Documents/arize/.venv/lib/python3.11/site-packages (from aiohttp->litellm) (0.2.0)\n",
      "Requirement already satisfied: yarl<2.0,>=1.17.0 in /Users/ericxiao/Documents/arize/.venv/lib/python3.11/site-packages (from aiohttp->litellm) (1.18.0)\n",
      "Requirement already satisfied: huggingface-hub<1.0,>=0.16.4 in /Users/ericxiao/Documents/arize/.venv/lib/python3.11/site-packages (from tokenizers->litellm) (0.26.3)\n",
      "Requirement already satisfied: filelock in /Users/ericxiao/Documents/arize/.venv/lib/python3.11/site-packages (from huggingface-hub<1.0,>=0.16.4->tokenizers->litellm) (3.16.1)\n",
      "Requirement already satisfied: fsspec>=2023.5.0 in /Users/ericxiao/Documents/arize/.venv/lib/python3.11/site-packages (from huggingface-hub<1.0,>=0.16.4->tokenizers->litellm) (2024.10.0)\n",
      "Requirement already satisfied: pyyaml>=5.1 in /Users/ericxiao/Documents/arize/.venv/lib/python3.11/site-packages (from huggingface-hub<1.0,>=0.16.4->tokenizers->litellm) (6.0.2)\n",
      "\n",
      "\u001b[1m[\u001b[0m\u001b[34;49mnotice\u001b[0m\u001b[1;39;49m]\u001b[0m\u001b[39;49m A new release of pip is available: \u001b[0m\u001b[31;49m23.2.1\u001b[0m\u001b[39;49m -> \u001b[0m\u001b[32;49m24.3.1\u001b[0m\n",
      "\u001b[1m[\u001b[0m\u001b[34;49mnotice\u001b[0m\u001b[1;39;49m]\u001b[0m\u001b[39;49m To update, run: \u001b[0m\u001b[32;49mpip3 install --upgrade pip\u001b[0m\n"
     ]
    }
   ],
   "source": [
    "# Dependencies needed to instrument your openai application using opentelemetry and openinference\n",
    "!pip3 install arize-otel openinference-instrumentation-litellm opentelemetry-sdk opentelemetry-exporter-otlp opentelemetry-instrumentation-httpx litellm 'httpx<0.28'"
   ]
  },
  {
   "cell_type": "markdown",
   "id": "7bf0c55e-69f0-4d81-b65e-13388866b467",
   "metadata": {
    "id": "7bf0c55e-69f0-4d81-b65e-13388866b467"
   },
   "source": [
    "## Step 2: Get your API Keys"
   ]
  },
  {
   "cell_type": "markdown",
   "id": "16bce764-0d42-4e9a-a86e-bee64a30a07c",
   "metadata": {
    "id": "16bce764-0d42-4e9a-a86e-bee64a30a07c"
   },
   "source": [
    "Copy the Arize API_KEY and SPACE_ID from your Space Settings page (shown below) to the variables in the cell below.\n",
    "\n",
    "<center><img src=\"https://storage.googleapis.com/arize-assets/barcelos/Screenshot%202024-11-11%20at%209.28.27%E2%80%AFPM.png\" width=\"700\"></center>"
   ]
  },
  {
   "cell_type": "code",
   "execution_count": 3,
   "id": "83f3a52e-873c-4128-a183-a9db38f51305",
   "metadata": {},
   "outputs": [],
   "source": [
    "import os\n",
    "from getpass import getpass\n",
    "\n",
    "if not (SPACE_ID := os.getenv(\"SPACE_ID\")):\n",
    "    SPACE_ID = getpass(\"🔑 Enter your Space ID: \")\n",
    "\n",
    "if not (API_KEY := os.getenv(\"API_KEY\")):\n",
    "    API_KEY = getpass(\"🔑 Enter your API Key: \")\n",
    "\n",
    "if not (OPENAI_API_KEY := os.getenv(\"OPENAI_API_KEY\")):\n",
    "    OPENAI_API_KEY = getpass(\"🔑 Enter your OpenAI API key: \")\n",
    "\n",
    "os.environ[\"OPENAI_API_KEY\"] = OPENAI_API_KEY"
   ]
  },
  {
   "cell_type": "markdown",
   "id": "2131d82c-3e83-4b0f-9845-f879af0dd641",
   "metadata": {
    "id": "2131d82c-3e83-4b0f-9845-f879af0dd641"
   },
   "source": [
    "## Step 3. Add our tracing code\n",
    "We will be using the arize_otel package to register the URL and authentication parameters to send to Arize using OpenTelemetry. You can see what's under the hood by looking [here](https://docs.arize.com/arize/large-language-models/tracing/auto-instrumentation)."
   ]
  },
  {
   "cell_type": "code",
   "execution_count": 4,
   "id": "d1e103c2-5b87-4ba3-9d8d-c250a748ff31",
   "metadata": {},
   "outputs": [],
   "source": [
    "# Import open-telemetry dependencies\n",
    "from arize_otel import register_otel, Endpoints\n",
    "from openinference.instrumentation.litellm import LiteLLMInstrumentor\n",
    "\n",
    "# Setup OTEL via our convenience function\n",
    "register_otel(\n",
    "    endpoints=Endpoints.ARIZE,\n",
    "    space_id=SPACE_ID,  # in app space settings page\n",
    "    api_key=API_KEY,  # in app space settings page\n",
    "    project_name=\"litellm-tracing-tutorial\",  # name this to whatever you would like\n",
    ")\n",
    "\n",
    "LiteLLMInstrumentor().instrument()"
   ]
  },
  {
   "cell_type": "markdown",
   "id": "5b4aa150-82f5-4268-b7fd-95b059b03d59",
   "metadata": {
    "id": "5b4aa150-82f5-4268-b7fd-95b059b03d59"
   },
   "source": [
    "## Step 4: Run your LLM application\n",
    "Let's test our app by asking to write a haiku."
   ]
  },
  {
   "cell_type": "code",
   "execution_count": 6,
   "id": "4e13d61d-3cab-4e07-a14b-357038646ad2",
   "metadata": {},
   "outputs": [
    {
     "name": "stdout",
     "output_type": "stream",
     "text": [
      "ModelResponse(id='chatcmpl-AbDKfttNH7Q6kfQ4wIcecr4qKNj8Y', created=1733432749, model='gpt-3.5-turbo-0125', object='chat.completion', system_fingerprint=None, choices=[Choices(finish_reason='stop', index=0, message=Message(content=\"Gentle breeze whispers\\nThrough the leaves of the cherry tree\\nNature's sweet lullaby\", role='assistant', tool_calls=None, function_call=None))], usage=Usage(completion_tokens=20, prompt_tokens=12, total_tokens=32, completion_tokens_details=CompletionTokensDetailsWrapper(accepted_prediction_tokens=0, audio_tokens=0, reasoning_tokens=0, rejected_prediction_tokens=0, text_tokens=None), prompt_tokens_details=PromptTokensDetailsWrapper(audio_tokens=0, cached_tokens=0, text_tokens=None, image_tokens=None)), service_tier=None)\n"
     ]
    }
   ],
   "source": [
    "import litellm\n",
    "\n",
    "litellm.completion(\n",
    "    model=\"gpt-3.5-turbo\",\n",
    "    messages=[{\"content\": \"Write a haiku.\", \"role\": \"user\"}],\n",
    ")"
   ]
  },
  {
   "cell_type": "markdown",
   "id": "e20a4000-8267-44a1-a849-768167aa6624",
   "metadata": {
    "id": "e20a4000-8267-44a1-a849-768167aa6624"
   },
   "source": [
    "Great! Our application works!"
   ]
  },
  {
   "cell_type": "markdown",
   "id": "9c0fd7e0-9eae-431d-b23a-5fb8c03779b6",
   "metadata": {
    "id": "9c0fd7e0-9eae-431d-b23a-5fb8c03779b6"
   },
   "source": [
    "## Step 5: Log into Arize and explore your application traces 🚀\n",
    "\n",
    "Log into your Arize account, and look for the project with the same `project_name`.\n",
    "\n",
    "<img src=\"https://storage.googleapis.com/arize-assets/tutorials/images/arize-llm-tracing.png\" width=\"1500\" />"
   ]
  }
 ],
 "metadata": {
  "kernelspec": {
   "display_name": ".venv",
   "language": "python",
   "name": "python3"
  },
  "language_info": {
   "codemirror_mode": {
    "name": "ipython",
    "version": 3
   },
   "file_extension": ".py",
   "mimetype": "text/x-python",
   "name": "python",
   "nbconvert_exporter": "python",
   "pygments_lexer": "ipython3",
   "version": "3.11.6"
  }
 },
 "nbformat": 4,
 "nbformat_minor": 5
}
