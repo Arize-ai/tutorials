{
  "cells": [
    {
      "cell_type": "markdown",
      "metadata": {
        "id": "Awn1jcNa0lLZ"
      },
      "source": [
        "<center>\n",
        "    <p style=\"text-align:center\">\n",
        "    <img alt=\"arize logo\" src=\"https://storage.googleapis.com/arize-assets/arize-logo-white.jpg\" width=\"300\"/>\n",
        "        <br>\n",
        "        <a href=\"https://docs.arize.com/arize/\">Docs</a>\n",
        "        |\n",
        "        <a href=\"https://github.com/Arize-ai/client_python\">GitHub</a>\n",
        "        |\n",
        "        <a href=\"https://join.slack.com/t/arize-ai/shared_invite/zt-1px8dcmlf-fmThhDFD_V_48oU7ALan4Q\">Community</a>\n",
        "    </p>\n",
        "</center>\n",
        "\n",
        "<center><h1>Using Arize with Langchain 🦜🔗 </h1></center>\n",
        "\n",
        "LangChain is a framework that helps you prototype LLM applications quickly. Use Arize and LangChain together to trace, evaluate, and iterate on your LLM apps and agents.\n",
        "\n",
        "### Running This Notebook\n",
        "1. Step through each section below, pressing play on the code blocks to run the cells.\n",
        "2. Log in your browser to the Arize App\n",
        "3. Copy and paste your Arize Space ID and API key"
      ]
    },
    {
      "cell_type": "markdown",
      "metadata": {
        "id": "_X9GuXoSXleA"
      },
      "source": [
        "# Step 0. Install Dependencies\n",
        "\n",
        "Install Langchain and Arize packages.\n",
        "\n",
        "⚠️ Use a GPU to save time generating embeddings. Click on 'Runtime', select 'Change Runtime Type' and\n",
        "select 'GPU'."
      ]
    },
    {
      "cell_type": "code",
      "execution_count": 1,
      "metadata": {
        "id": "EFySbDhANy1j"
      },
      "outputs": [],
      "source": [
        "!pip3 install -q langchain langchain_community langchain-openai\n",
        "!pip3 install -q arize arize-otel openinference-instrumentation-langchain\n",
        "!pip3 install -q 'arize[AutoEmbeddings]'"
      ]
    },
    {
      "cell_type": "markdown",
      "metadata": {
        "id": "VMjE6vwOOKS-"
      },
      "source": [
        "# Step 1. Setup Tracing\n",
        "\n",
        "Copy the Arize `API_KEY` and `SPACE_ID` from your Space Settings page (shown below) to the variables in the cell below.\n",
        "\n",
        "<center><img src=\"https://storage.googleapis.com/arize-assets/barcelos/Screenshot%202024-11-11%20at%209.28.27%E2%80%AFPM.png\" width=\"700\"></center>\n",
        "\n"
      ]
    },
    {
      "cell_type": "code",
      "source": [
        "# Import open-telemetry dependencies\n",
        "from arize_otel import register_otel, Endpoints\n",
        "\n",
        "# Setup OTEL via our convenience function\n",
        "register_otel(\n",
        "    endpoints = Endpoints.ARIZE,\n",
        "    space_id = getpass(\"Enter your Arize Space ID:\"),\n",
        "    api_key = getpass(\"Enter your Arize API Key:\"),\n",
        "    model_id = \"langchain-tracing\",\n",
        ")\n",
        "\n",
        "# Import the automatic instrumentor from OpenInference\n",
        "from openinference.instrumentation.langchain import LangChainInstrumentor\n",
        "\n",
        "# Finish automatic instrumentation\n",
        "LangChainInstrumentor().instrument()"
      ],
      "metadata": {
        "id": "iV01KmsTO83s"
      },
      "execution_count": 2,
      "outputs": []
    },
    {
      "cell_type": "code",
      "execution_count": 3,
      "metadata": {
        "colab": {
          "base_uri": "https://localhost:8080/"
        },
        "id": "yZ8x_0bFNy1l",
        "outputId": "c6df43db-0dfe-4137-9be2-6bb82ce1af3f"
      },
      "outputs": [
        {
          "name": "stdout",
          "output_type": "stream",
          "text": [
            "Your OpenAI API Key: ··········\n"
          ]
        }
      ],
      "source": [
        "from getpass import getpass\n",
        "import os\n",
        "\n",
        "os.environ[\"OPENAI_API_KEY\"] = getpass(\"Your OpenAI API Key: \")"
      ]
    },
    {
      "cell_type": "markdown",
      "metadata": {
        "id": "9jjWMK3wo_FX"
      },
      "source": [
        "## Step 2: Define LLM"
      ]
    },
    {
      "cell_type": "code",
      "execution_count": 4,
      "metadata": {
        "id": "SVozxXs5Ny1l"
      },
      "outputs": [],
      "source": [
        "from langchain_openai import OpenAI\n",
        "llm = OpenAI(temperature=0, verbose=True)"
      ]
    },
    {
      "cell_type": "markdown",
      "metadata": {
        "id": "ec97f_LONfp3"
      },
      "source": [
        "## Step 3: Test LLM Responses and Logging into Arize\n",
        "Use some simple prompts to test if the LLM works properly and each prompt-response pair is logged into Arize with embeddings."
      ]
    },
    {
      "cell_type": "code",
      "execution_count": 5,
      "metadata": {
        "id": "XWM5tKu6Ny1l"
      },
      "outputs": [],
      "source": [
        "llm_result = llm.generate(\n",
        "    [\n",
        "        \"Tell me an interesting fact about pandas.\",\n",
        "        \"Explain the concept of overfitting in 2 sentences.\",\n",
        "    ]\n",
        ")"
      ]
    },
    {
      "cell_type": "markdown",
      "metadata": {
        "id": "8DGWWhYOflGZ"
      },
      "source": [
        "## Step 4: Test LLM Chain and Agents with Arize Integration"
      ]
    },
    {
      "cell_type": "code",
      "execution_count": 7,
      "metadata": {
        "colab": {
          "base_uri": "https://localhost:8080/"
        },
        "id": "dBCtHxTmNy1l",
        "outputId": "31fb5d45-ff2c-4eb4-f4fc-5c646d1c8386"
      },
      "outputs": [
        {
          "output_type": "stream",
          "name": "stderr",
          "text": [
            "<ipython-input-7-9df899c70f86>:8: LangChainDeprecationWarning: The class `LLMChain` was deprecated in LangChain 0.1.17 and will be removed in 1.0. Use :meth:`~RunnableSequence, e.g., `prompt | llm`` instead.\n",
            "  synopsis_chain = LLMChain(llm=llm, prompt=prompt_template)\n",
            "<ipython-input-7-9df899c70f86>:28: LangChainDeprecationWarning: The method `Chain.apply` was deprecated in langchain 0.1.0 and will be removed in 1.0. Use :meth:`~batch` instead.\n",
            "  overall_chain.apply(test_prompts)\n"
          ]
        },
        {
          "output_type": "stream",
          "name": "stdout",
          "text": [
            "\n",
            "\n",
            "\u001b[1m> Entering new SimpleSequentialChain chain...\u001b[0m\n",
            "\u001b[36;1m\u001b[1;3m \"Panda Planet: A Race Against Time\"\n",
            "\n",
            "In a world where global warming is rapidly changing the environment, the beloved pandas are facing a dire threat of extinction. As their natural habitats are destroyed and their food sources dwindle, a team of dedicated scientists and conservationists embark on a mission to save these gentle creatures from disappearing forever.\n",
            "\n",
            "The play follows the journey of this team as they travel to remote areas of China to study and document the pandas' behavior and living conditions. Through their research, they uncover the devastating effects of global warming on the pandas and the urgent need for action.\n",
            "\n",
            "As they race against time to find a solution, the team faces challenges and obstacles, both from nature and from those who do not believe in the urgency of the situation. But their determination and passion for these animals drive them forward, as they strive to raise awareness and make a difference before it's too late.\n",
            "\n",
            "Through powerful storytelling and stunning visuals, \"Panda Planet: A Race Against Time\" sheds light on the critical issue of global warming and its impact on our planet's precious wildlife. Will the team be able to save the pandas and inspire change, or will they be too late? Join us on this emotional and thought-provoking journey to find out.\u001b[0m\n",
            "\u001b[33;1m\u001b[1;3m\n",
            "\n",
            "\"Panda Planet: A Race Against Time\" is a timely and poignant play that tackles the urgent issue of global warming and its impact on our planet's wildlife. Through a captivating story and stunning visuals, the audience is taken on a journey to the remote areas of China where the beloved pandas are facing extinction.\n",
            "\n",
            "The play's strong ensemble cast brings to life a team of dedicated scientists and conservationists who are determined to save these gentle creatures from disappearing forever. As they face challenges and obstacles, both from nature and from those who do not believe in the urgency of the situation, the audience is drawn into their emotional and thought-provoking journey.\n",
            "\n",
            "The play's message is clear and powerful, highlighting the devastating effects of global warming on the pandas and the urgent need for action. Through their research and determination, the team sheds light on the critical issue and inspires the audience to take action before it's too late.\n",
            "\n",
            "Director John Smith has done an exceptional job in bringing this important story to the stage, with stunning visuals and a well-paced narrative that keeps the audience engaged from start to finish. The set design and costumes also deserve special mention for their attention to detail and authenticity.\n",
            "\n",
            "Overall, \"Panda Planet: A Race Against Time\" is a must-see play that not only entert\u001b[0m\n",
            "\n",
            "\u001b[1m> Finished chain.\u001b[0m\n",
            "\n",
            "\n",
            "\u001b[1m> Entering new SimpleSequentialChain chain...\u001b[0m\n",
            "\u001b[36;1m\u001b[1;3m \"Once Upon a Time in Hollywood\" is a dark comedy that follows the lives of three struggling actors in the bustling city of Los Angeles. The play opens with the three friends, Jack, Max, and Lily, all living in a rundown apartment and barely making ends meet. Despite their struggles, they are determined to make it big in Hollywood and become famous actors.\n",
            "\n",
            "As they navigate through the cutthroat world of auditions and casting calls, they encounter a variety of eccentric characters, including a washed-up director, a ruthless agent, and a famous actress who takes a liking to Jack. Along the way, they also face challenges and setbacks, including rejection, financial struggles, and personal conflicts.\n",
            "\n",
            "But as luck would have it, their fortunes change when they stumble upon a script that could be their big break. With the help of their newfound success, they start to climb the ladder of fame and fortune. However, as they get closer to achieving their dreams, they realize that the price of fame may be higher than they ever imagined.\n",
            "\n",
            "As the play reaches its climax, the three friends must confront the harsh realities of the entertainment industry and make difficult choices that will ultimately determine their fate. Will they be able to hold onto their dreams and stay true to themselves, or will they be consumed\u001b[0m\n",
            "\u001b[33;1m\u001b[1;3m\n",
            "\n",
            "\"Once Upon a Time in Hollywood\" is a dark and satirical take on the pursuit of fame and fortune in the cutthroat world of Hollywood. Written and directed by newcomer playwright, the play follows the lives of three struggling actors as they navigate through the highs and lows of the entertainment industry.\n",
            "\n",
            "The play opens with Jack, Max, and Lily, three friends living in a rundown apartment and barely making ends meet. Despite their financial struggles, they are determined to make it big in Hollywood and become famous actors. The audience is immediately drawn into their world, rooting for them to succeed in their dreams.\n",
            "\n",
            "As the play progresses, we are introduced to a variety of eccentric characters, each with their own agenda and motivations. From a washed-up director to a ruthless agent, the play cleverly satirizes the cutthroat nature of the entertainment industry. The interactions between the characters are sharp and witty, keeping the audience engaged and entertained.\n",
            "\n",
            "The standout performance comes from the three leads, who effortlessly portray the struggles and aspirations of their characters. Their chemistry on stage is palpable, making their friendship and journey all the more believable. As they face challenges and setbacks, the audience is invested in their journey and rooting for their success.\n",
            "\n",
            "The play also delves into the darker side of fame\u001b[0m\n",
            "\n",
            "\u001b[1m> Finished chain.\u001b[0m\n",
            "\n",
            "\n",
            "\u001b[1m> Entering new SimpleSequentialChain chain...\u001b[0m\n",
            "\u001b[36;1m\u001b[1;3m \n",
            "\n",
            "\"The Best MO Observability Tooling\" follows the story of a group of software developers who are tasked with creating the most advanced and efficient observability tool for their company. As they work tirelessly to meet their deadline, tensions rise and conflicts arise as each member of the team has their own ideas and methods for achieving the best results.\n",
            "\n",
            "Amidst the chaos, the team must also navigate personal relationships and past traumas that threaten to derail their progress. As they struggle to find a balance between work and personal life, they must also confront the question of what truly makes a tool the \"best\" and whether it is worth sacrificing everything for.\n",
            "\n",
            "As the deadline approaches, the team must come together and use their individual strengths to create a tool that not only meets the company's expectations but also satisfies their own personal desires. Will they be able to overcome their differences and create the ultimate observability tool, or will their personal struggles tear them apart? \"The Best MO Observability Tooling\" is a thought-provoking and emotional journey that explores the complexities of work, relationships, and the pursuit of perfection.\u001b[0m\n",
            "\u001b[33;1m\u001b[1;3m\n",
            "\n",
            "\"The Best MO Observability Tooling\" is a captivating and thought-provoking play that delves into the world of software development and the pursuit of perfection. Written by a talented playwright, this play follows the story of a group of developers tasked with creating the most advanced observability tool for their company.\n",
            "\n",
            "The play expertly weaves together the personal struggles and relationships of the characters with the intense pressure of meeting a deadline. As tensions rise and conflicts arise, the audience is taken on a rollercoaster of emotions as the characters navigate their differences and past traumas.\n",
            "\n",
            "What sets this play apart is its exploration of the question of what truly makes a tool the \"best.\" As the characters grapple with this question, the audience is forced to reflect on their own definitions of success and the sacrifices that come with it.\n",
            "\n",
            "The talented cast brings the characters to life with their nuanced performances, making the audience feel deeply connected to their struggles and triumphs. The set design and technical elements also add to the immersive experience of the play.\n",
            "\n",
            "Overall, \"The Best MO Observability Tooling\" is a must-see for anyone interested in the world of software development or simply looking for a thought-provoking and emotional journey. This play will leave you questioning your own pursuit of perfection\u001b[0m\n",
            "\n",
            "\u001b[1m> Finished chain.\u001b[0m\n"
          ]
        },
        {
          "output_type": "execute_result",
          "data": {
            "text/plain": [
              "[{'input': 'documentary about pandas who are about be extinct because of global warming',\n",
              "  'output': '\\n\\n\"Panda Planet: A Race Against Time\" is a timely and poignant play that tackles the urgent issue of global warming and its impact on our planet\\'s wildlife. Through a captivating story and stunning visuals, the audience is taken on a journey to the remote areas of China where the beloved pandas are facing extinction.\\n\\nThe play\\'s strong ensemble cast brings to life a team of dedicated scientists and conservationists who are determined to save these gentle creatures from disappearing forever. As they face challenges and obstacles, both from nature and from those who do not believe in the urgency of the situation, the audience is drawn into their emotional and thought-provoking journey.\\n\\nThe play\\'s message is clear and powerful, highlighting the devastating effects of global warming on the pandas and the urgent need for action. Through their research and determination, the team sheds light on the critical issue and inspires the audience to take action before it\\'s too late.\\n\\nDirector John Smith has done an exceptional job in bringing this important story to the stage, with stunning visuals and a well-paced narrative that keeps the audience engaged from start to finish. The set design and costumes also deserve special mention for their attention to detail and authenticity.\\n\\nOverall, \"Panda Planet: A Race Against Time\" is a must-see play that not only entert'},\n",
              " {'input': 'once upon a time in hollywood',\n",
              "  'output': '\\n\\n\"Once Upon a Time in Hollywood\" is a dark and satirical take on the pursuit of fame and fortune in the cutthroat world of Hollywood. Written and directed by newcomer playwright, the play follows the lives of three struggling actors as they navigate through the highs and lows of the entertainment industry.\\n\\nThe play opens with Jack, Max, and Lily, three friends living in a rundown apartment and barely making ends meet. Despite their financial struggles, they are determined to make it big in Hollywood and become famous actors. The audience is immediately drawn into their world, rooting for them to succeed in their dreams.\\n\\nAs the play progresses, we are introduced to a variety of eccentric characters, each with their own agenda and motivations. From a washed-up director to a ruthless agent, the play cleverly satirizes the cutthroat nature of the entertainment industry. The interactions between the characters are sharp and witty, keeping the audience engaged and entertained.\\n\\nThe standout performance comes from the three leads, who effortlessly portray the struggles and aspirations of their characters. Their chemistry on stage is palpable, making their friendship and journey all the more believable. As they face challenges and setbacks, the audience is invested in their journey and rooting for their success.\\n\\nThe play also delves into the darker side of fame'},\n",
              " {'input': 'the best mo observability tooling',\n",
              "  'output': '\\n\\n\"The Best MO Observability Tooling\" is a captivating and thought-provoking play that delves into the world of software development and the pursuit of perfection. Written by a talented playwright, this play follows the story of a group of developers tasked with creating the most advanced observability tool for their company.\\n\\nThe play expertly weaves together the personal struggles and relationships of the characters with the intense pressure of meeting a deadline. As tensions rise and conflicts arise, the audience is taken on a rollercoaster of emotions as the characters navigate their differences and past traumas.\\n\\nWhat sets this play apart is its exploration of the question of what truly makes a tool the \"best.\" As the characters grapple with this question, the audience is forced to reflect on their own definitions of success and the sacrifices that come with it.\\n\\nThe talented cast brings the characters to life with their nuanced performances, making the audience feel deeply connected to their struggles and triumphs. The set design and technical elements also add to the immersive experience of the play.\\n\\nOverall, \"The Best MO Observability Tooling\" is a must-see for anyone interested in the world of software development or simply looking for a thought-provoking and emotional journey. This play will leave you questioning your own pursuit of perfection'}]"
            ]
          },
          "metadata": {},
          "execution_count": 7
        }
      ],
      "source": [
        "from langchain.prompts import PromptTemplate\n",
        "from langchain.chains import LLMChain, SimpleSequentialChain\n",
        "\n",
        "template = \"\"\"You are a playwright. Given the title of play, it is your job to write a synopsis for that title.\n",
        "Title: {title}\n",
        "Playwright: This is a synopsis for the above play:\"\"\"\n",
        "prompt_template = PromptTemplate(input_variables=[\"title\"], template=template)\n",
        "synopsis_chain = LLMChain(llm=llm, prompt=prompt_template)\n",
        "\n",
        "template = \"\"\"You are a play critic from the New York Times. Given the synopsis of play, it is your job to write a review for that play.\n",
        "Play Synopsis:\n",
        "{synopsis}\n",
        "Review from a New York Times play critic of the above play:\"\"\"\n",
        "prompt_template = PromptTemplate(input_variables=[\"synopsis\"], template=template)\n",
        "review_chain = LLMChain(llm=llm, prompt=prompt_template)\n",
        "\n",
        "overall_chain = SimpleSequentialChain(\n",
        "    chains=[synopsis_chain, review_chain], verbose=True\n",
        ")\n",
        "\n",
        "test_prompts = [\n",
        "    {\n",
        "        \"input\": \"documentary about pandas who are about be extinct because of global warming\"\n",
        "    },\n",
        "    {\"input\": \"once upon a time in hollywood\"},\n",
        "    {\"input\": \"the best mo observability tooling\"},\n",
        "]\n",
        "overall_chain.apply(test_prompts)"
      ]
    }
  ],
  "metadata": {
    "language_info": {
      "name": "python"
    },
    "colab": {
      "provenance": []
    },
    "kernelspec": {
      "name": "python3",
      "display_name": "Python 3"
    }
  },
  "nbformat": 4,
  "nbformat_minor": 0
}