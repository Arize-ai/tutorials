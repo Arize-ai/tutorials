{
 "cells": [
  {
   "cell_type": "markdown",
   "metadata": {
    "id": "4FbDOmcj2VkM"
   },
   "source": [
    "\n",
    "<center>\n",
    "    <p style=\"text-align:center\">\n",
    "    <img alt=\"arize logo\" src=\"https://storage.googleapis.com/arize-assets/arize-logo-white.jpg\" width=\"250\"/>\n",
    "        <br>\n",
    "        <a href=\"https://docs.arize.com/arize/\">Docs</a>\n",
    "        |\n",
    "        <a href=\"https://github.com/Arize-ai/client_python\">GitHub</a>\n",
    "        |\n",
    "        <a href=\"https://arize-ai.slack.com/join/shared_invite/zt-11t1vbu4x-xkBIHmOREQnYnYDH1GDfCg\">Community</a>\n",
    "    </p>\n",
    "</center>\n",
    "\n",
    "## <center>Use TogetherAI with Arize </center>\n",
    "https://docs.together.ai/docs/integrations\n",
    "\n",
    "Call TogetherAI APIs with Arize auto-instrumentation"
   ]
  },
  {
   "cell_type": "markdown",
   "metadata": {
    "id": "21W8Woog26Ns"
   },
   "source": [
    "## Install Dependencies"
   ]
  },
  {
   "cell_type": "code",
   "execution_count": null,
   "metadata": {},
   "outputs": [],
   "source": [
    "!pip install openai -qq\n",
    "\n",
    "!pip install -qq \"openinference-instrumentation-openai>=0.1.18\" \"arize-otel>=0.7.0\""
   ]
  },
  {
   "cell_type": "markdown",
   "metadata": {
    "id": "jHEu-TjZ29PJ"
   },
   "source": [
    "## Get API Keys"
   ]
  },
  {
   "cell_type": "markdown",
   "metadata": {},
   "source": [
    "Copy the Arize API_KEY and SPACE_ID from your Space Settings page (shown below) to the variables in the cell below.\n",
    "\n",
    "<center><img src=\"https://storage.googleapis.com/arize-assets/barcelos/Screenshot%202024-11-11%20at%209.28.27%E2%80%AFPM.png\" width=\"700\"></center>"
   ]
  },
  {
   "cell_type": "code",
   "execution_count": null,
   "metadata": {},
   "outputs": [],
   "source": [
    "import os\n",
    "from getpass import getpass\n",
    "\n",
    "SPACE_ID = globals().get(\"SPACE_ID\") or getpass(\n",
    "    \"🔑 Enter your Arize Space ID: \"\n",
    ")\n",
    "API_KEY = globals().get(\"API_KEY\") or getpass(\"🔑 Enter your Arize API Key: \")\n",
    "TOGETHER_API_KEY = globals().get(\"TOGETHER_API_KEY\") or getpass(\n",
    "    \"🔑 Enter your TogetherAI API key: \"\n",
    ")\n",
    "\n",
    "os.environ[\"TOGETHER_API_KEY\"] = TOGETHER_API_KEY"
   ]
  },
  {
   "cell_type": "markdown",
   "metadata": {},
   "source": [
    "# Add tracing"
   ]
  },
  {
   "cell_type": "code",
   "execution_count": null,
   "metadata": {},
   "outputs": [],
   "source": [
    "# Import open-telemetry dependencies\n",
    "from arize.otel import register\n",
    "\n",
    "# Setup OTEL via our convenience function\n",
    "tracer_provider = register(\n",
    "    space_id=SPACE_ID,  # in app space settings page\n",
    "    api_key=API_KEY,  # in app space settings page\n",
    "    project_name=\"togetherai-tracing\",  # name this to whatever you would like\n",
    ")\n",
    "# Import the automatic instrumentor from OpenInference\n",
    "from openinference.instrumentation.openai import OpenAIInstrumentor\n",
    "\n",
    "# Finish automatic instrumentation\n",
    "OpenAIInstrumentor().uninstrument()\n",
    "OpenAIInstrumentor().instrument(tracer_provider=tracer_provider)"
   ]
  },
  {
   "cell_type": "code",
   "execution_count": null,
   "metadata": {},
   "outputs": [],
   "source": [
    "import os\n",
    "import openai\n",
    "\n",
    "client = openai.OpenAI(\n",
    "    api_key=os.environ.get(\"TOGETHER_API_KEY\"),\n",
    "    base_url=\"https://api.together.xyz/v1\",\n",
    ")\n",
    "\n",
    "response = client.chat.completions.create(\n",
    "    model=\"meta-llama/Meta-Llama-3.1-8B-Instruct-Turbo\",\n",
    "    messages=[\n",
    "        {\n",
    "            \"role\": \"system\",\n",
    "            \"content\": \"You are a travel agent. Be descriptive and helpful.\",\n",
    "        },\n",
    "        {\n",
    "            \"role\": \"user\",\n",
    "            \"content\": \"Tell me the top 3 things to do in San Francisco\",\n",
    "        },\n",
    "    ],\n",
    ")\n",
    "\n",
    "print(response.choices[0].message.content)"
   ]
  }
 ],
 "metadata": {
  "language_info": {
   "name": "python"
  }
 },
 "nbformat": 4,
 "nbformat_minor": 0
}
